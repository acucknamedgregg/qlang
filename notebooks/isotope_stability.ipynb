# φ-DCRT Isotope Stability Model
# Simulates collapse margins across neutron variations

import numpy as np
import matplotlib.pyplot as plt

# Constants (in eV)
alpha = 13.6  # Proton tension unit
gamma = 14.0  # Neutron buffering unit
delta = 1.0   # Shell coherence bonus

def collapse_margin(Z, N, shell_bonus=1):
    phi = Z * alpha
    chi = N * gamma
    beta = shell_bonus * delta
    margin = chi * beta - phi
    return margin

# Choose atomic number Z
Z = 8  # Oxygen

# Simulate for N = Z-3 to Z+5
N_range = np.arange(Z - 3, Z + 6)
margins = [collapse_margin(Z, N) for N in N_range]

# Plot
plt.figure(figsize=(10, 6))
plt.plot(N_range, margins, marker='o', color='darkred')
plt.axhline(0, color='gray', linestyle='--')
plt.title(f"φ-DCRT Collapse Margin for Isotopes of Z = {Z}")
plt.xlabel("Neutron Count (N)")
plt.ylabel("Collapse Margin (eV)")
plt.grid(True)
plt.show()