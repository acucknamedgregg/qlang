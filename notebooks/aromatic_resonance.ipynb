# φ-DCRT Aromatic Resonance Simulation
# Computes collapse margins for aromatic molecules

import matplotlib.pyplot as plt

# Constants (in eV)
alpha = 13.6  # Proton tension unit
gamma = 14.0  # Neutron buffering unit
delta = 1.0   # Shell coherence bonus

# Molecule data: (name, Z_total, N_total, shell_bonus)
molecules = [
    ("Benzene", 42, 42, 6),
    ("Naphthalene", 60, 60, 10),
    ("Anthracene", 78, 78, 14),
    ("Phenol", 50, 50, 7),
    ("Pyridine", 41, 42, 6),
    ("Indole", 68, 68, 12),
    ("Toluene", 50, 50, 7)
]

def collapse_margin(Z, N, shell_bonus):
    phi = Z * alpha
    chi = N * gamma
    beta = shell_bonus * delta
    margin = chi * beta - phi
    return margin

# Compute margins
names = []
margins = []

for name, Z, N, bonus in molecules:
    margin = collapse_margin(Z, N, bonus)
    names.append(name)
    margins.append(margin)

# Plot
plt.figure(figsize=(10, 6))
plt.bar(names, margins, color='purple')
plt.axhline(0, color='gray', linestyle='--')
plt.title("φ-DCRT Collapse Margins for Aromatic Molecules")
plt.ylabel("Collapse Margin (eV)")
plt.xticks(rotation=45)
plt.grid(True, axis='y')
plt.tight_layout()
plt.show()